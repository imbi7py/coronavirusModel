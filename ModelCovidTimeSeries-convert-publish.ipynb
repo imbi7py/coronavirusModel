{
 "cells": [
  {
   "cell_type": "markdown",
   "metadata": {},
   "source": [
    "# Model Time Series for COVID: Publish for app\n",
    "\n",
    "This notebook use multistep time serie model  (predicting number of cases future next days).\n",
    "\n",
    "It converts Tensorflow model into TensorFlow Lite to be able to use it in a Lambda fonction on AWS.\n",
    "\n",
    "After that, the lite model is tested and publish on AWS\n",
    "\n",
    "Finally, the lambda function is tested"
   ]
  },
  {
   "cell_type": "markdown",
   "metadata": {},
   "source": [
    "## Convert model in TFlite"
   ]
  },
  {
   "cell_type": "markdown",
   "metadata": {},
   "source": [
    "**IMPORTANT TO DO manually:**\n",
    "- **Update TRAIN_SPLIT in my_helpers.model module**"
   ]
  },
  {
   "cell_type": "markdown",
   "metadata": {},
   "source": [
    "### import"
   ]
  },
  {
   "cell_type": "code",
   "execution_count": 1,
   "metadata": {},
   "outputs": [],
   "source": [
    "# data useful lib\n",
    "import pandas as pd\n",
    "import numpy as np\n",
    "\n",
    "# helper lib\n",
    "import shutil\n",
    "import os, stat\n",
    "import re\n",
    "import datetime\n",
    "import math\n",
    "\n",
    "# read json from http\n",
    "import json\n",
    "import urllib.request\n",
    "\n",
    "# read csv from http\n",
    "import io\n",
    "import requests\n",
    "\n",
    "# model lib\n",
    "import tensorflow as tf\n",
    "\n",
    "# from project\n",
    "from my_helpers.model import prepare_to_lambda, retrieve_from_lambda\n",
    "from my_helpers.model import prepare_to_lambda_future\n",
    "from my_helpers.model import create_list_past_hist, predict_list"
   ]
  },
  {
   "cell_type": "markdown",
   "metadata": {},
   "source": [
    "### Definitions"
   ]
  },
  {
   "cell_type": "code",
   "execution_count": 2,
   "metadata": {},
   "outputs": [
    {
     "name": "stdout",
     "output_type": "stream",
     "text": [
      "TRAIN_SPLIT = 135\n"
     ]
    }
   ],
   "source": [
    "PATH_TO_SAVE_DATA = \".\"\n",
    "PATH_DF_POS_FR = PATH_TO_SAVE_DATA + '/' + 'df_pos_fr.csv'\n",
    "PATH_DF_TEST_FR = PATH_TO_SAVE_DATA + '/' + 'df_test_fr.csv'\n",
    "PATH_JSON_METEO_FR = PATH_TO_SAVE_DATA + '/' + 'data_meteo_fr.json'\n",
    "PATH_DF_FEAT_FR = PATH_TO_SAVE_DATA + '/' + 'df_feat_fr.csv' \n",
    "PATH_GEO_DEP_FR = PATH_TO_SAVE_DATA + '/sources/geofrance/' + 'departments.csv'\n",
    "PATH_MDL_SINGLE_STEP = PATH_TO_SAVE_DATA + '/' + \"mdl_single_step_pos_fr\"\n",
    "PATH_MDL_MULTI_STEP = PATH_TO_SAVE_DATA + '/' + \"mdl_multi_step_pos_fr\"\n",
    "PATH_MDL_MULTI_TFLITE = PATH_TO_SAVE_DATA + '/' + \\\n",
    "    'serverless/tensorflow_lite_on_aws_lambda'\n",
    "PATH_MDL_MULTI_TFLITE_FILE = PATH_MDL_MULTI_TFLITE + '/' + \\\n",
    "    \"converted_model.tflite\"\n",
    "PATH_SERVERLESS = PATH_MDL_MULTI_TFLITE + '/' + 'serverless.yml'\n",
    "\n",
    "date_format = \"%Y-%m-%d\"\n",
    "\n",
    "#NB_POS_DATE_MIN_DF_FEAT = 140734 # on 13/05/2020\n",
    "NB_POS_DATE_MIN_DF_FEAT = 140227 # on 12/05/2020\n",
    "\n",
    "URL_PREDICT = 'https://yl0910jrga.execute-api.us-east-2.amazonaws.com/dev/infer'\n",
    "\n",
    "# model \n",
    "PAST_HISTORY = 14 # days used to predict next values in future\n",
    "FUTURE_TARGET = 7 # nb predict days later\n",
    "STEP = 1\n",
    "\n",
    "# plot\n",
    "NB_DAY_PLOT = FUTURE_TARGET*9\n",
    "\n",
    "# train split\n",
    "from my_helpers.model import TRAIN_SPLIT\n",
    "print(f\"TRAIN_SPLIT = {TRAIN_SPLIT}\")"
   ]
  },
  {
   "cell_type": "markdown",
   "metadata": {},
   "source": [
    "### load data"
   ]
  },
  {
   "cell_type": "code",
   "execution_count": 3,
   "metadata": {},
   "outputs": [
    {
     "data": {
      "text/html": [
       "<div>\n",
       "<style scoped>\n",
       "    .dataframe tbody tr th:only-of-type {\n",
       "        vertical-align: middle;\n",
       "    }\n",
       "\n",
       "    .dataframe tbody tr th {\n",
       "        vertical-align: top;\n",
       "    }\n",
       "\n",
       "    .dataframe thead th {\n",
       "        text-align: right;\n",
       "    }\n",
       "</style>\n",
       "<table border=\"1\" class=\"dataframe\">\n",
       "  <thead>\n",
       "    <tr style=\"text-align: right;\">\n",
       "      <th></th>\n",
       "      <th>T_min</th>\n",
       "      <th>date</th>\n",
       "      <th>T_max</th>\n",
       "      <th>H_min</th>\n",
       "      <th>H_max</th>\n",
       "      <th>pos</th>\n",
       "      <th>age_pos</th>\n",
       "      <th>test</th>\n",
       "      <th>age_test</th>\n",
       "      <th>day_num</th>\n",
       "      <th>nb_cases</th>\n",
       "      <th>train</th>\n",
       "    </tr>\n",
       "    <tr>\n",
       "      <th>date</th>\n",
       "      <th></th>\n",
       "      <th></th>\n",
       "      <th></th>\n",
       "      <th></th>\n",
       "      <th></th>\n",
       "      <th></th>\n",
       "      <th></th>\n",
       "      <th></th>\n",
       "      <th></th>\n",
       "      <th></th>\n",
       "      <th></th>\n",
       "      <th></th>\n",
       "    </tr>\n",
       "  </thead>\n",
       "  <tbody>\n",
       "    <tr>\n",
       "      <th>2020-05-13</th>\n",
       "      <td>284.926667</td>\n",
       "      <td>2020-05-13</td>\n",
       "      <td>290.505000</td>\n",
       "      <td>64.661017</td>\n",
       "      <td>88.135593</td>\n",
       "      <td>882</td>\n",
       "      <td>60.987528</td>\n",
       "      <td>38783</td>\n",
       "      <td>55.446794</td>\n",
       "      <td>3</td>\n",
       "      <td>141109</td>\n",
       "      <td>True</td>\n",
       "    </tr>\n",
       "    <tr>\n",
       "      <th>2020-05-14</th>\n",
       "      <td>285.050000</td>\n",
       "      <td>2020-05-14</td>\n",
       "      <td>290.963333</td>\n",
       "      <td>59.406780</td>\n",
       "      <td>84.847458</td>\n",
       "      <td>980</td>\n",
       "      <td>60.435714</td>\n",
       "      <td>41562</td>\n",
       "      <td>54.797940</td>\n",
       "      <td>4</td>\n",
       "      <td>142089</td>\n",
       "      <td>True</td>\n",
       "    </tr>\n",
       "    <tr>\n",
       "      <th>2020-05-15</th>\n",
       "      <td>285.308333</td>\n",
       "      <td>2020-05-15</td>\n",
       "      <td>291.920000</td>\n",
       "      <td>57.372881</td>\n",
       "      <td>82.966102</td>\n",
       "      <td>1031</td>\n",
       "      <td>59.838991</td>\n",
       "      <td>47014</td>\n",
       "      <td>54.314311</td>\n",
       "      <td>5</td>\n",
       "      <td>143120</td>\n",
       "      <td>True</td>\n",
       "    </tr>\n",
       "    <tr>\n",
       "      <th>2020-05-16</th>\n",
       "      <td>284.956667</td>\n",
       "      <td>2020-05-16</td>\n",
       "      <td>293.500000</td>\n",
       "      <td>53.741379</td>\n",
       "      <td>86.534483</td>\n",
       "      <td>291</td>\n",
       "      <td>60.158076</td>\n",
       "      <td>16144</td>\n",
       "      <td>54.354001</td>\n",
       "      <td>6</td>\n",
       "      <td>143411</td>\n",
       "      <td>True</td>\n",
       "    </tr>\n",
       "    <tr>\n",
       "      <th>2020-05-17</th>\n",
       "      <td>285.598333</td>\n",
       "      <td>2020-05-17</td>\n",
       "      <td>294.446667</td>\n",
       "      <td>49.879310</td>\n",
       "      <td>85.500000</td>\n",
       "      <td>139</td>\n",
       "      <td>61.568345</td>\n",
       "      <td>6267</td>\n",
       "      <td>58.061752</td>\n",
       "      <td>0</td>\n",
       "      <td>143550</td>\n",
       "      <td>True</td>\n",
       "    </tr>\n",
       "    <tr>\n",
       "      <th>...</th>\n",
       "      <td>...</td>\n",
       "      <td>...</td>\n",
       "      <td>...</td>\n",
       "      <td>...</td>\n",
       "      <td>...</td>\n",
       "      <td>...</td>\n",
       "      <td>...</td>\n",
       "      <td>...</td>\n",
       "      <td>...</td>\n",
       "      <td>...</td>\n",
       "      <td>...</td>\n",
       "      <td>...</td>\n",
       "    </tr>\n",
       "    <tr>\n",
       "      <th>2020-10-05</th>\n",
       "      <td>285.878333</td>\n",
       "      <td>2020-10-05</td>\n",
       "      <td>290.990000</td>\n",
       "      <td>67.779661</td>\n",
       "      <td>91.186441</td>\n",
       "      <td>21050</td>\n",
       "      <td>44.374394</td>\n",
       "      <td>179242</td>\n",
       "      <td>46.053564</td>\n",
       "      <td>1</td>\n",
       "      <td>646213</td>\n",
       "      <td>False</td>\n",
       "    </tr>\n",
       "    <tr>\n",
       "      <th>2020-10-06</th>\n",
       "      <td>286.891667</td>\n",
       "      <td>2020-10-06</td>\n",
       "      <td>292.201667</td>\n",
       "      <td>67.508475</td>\n",
       "      <td>89.983051</td>\n",
       "      <td>19329</td>\n",
       "      <td>44.535361</td>\n",
       "      <td>164065</td>\n",
       "      <td>44.719617</td>\n",
       "      <td>2</td>\n",
       "      <td>665542</td>\n",
       "      <td>False</td>\n",
       "    </tr>\n",
       "    <tr>\n",
       "      <th>2020-10-07</th>\n",
       "      <td>286.887288</td>\n",
       "      <td>2020-10-07</td>\n",
       "      <td>292.333051</td>\n",
       "      <td>62.500000</td>\n",
       "      <td>90.655172</td>\n",
       "      <td>20279</td>\n",
       "      <td>43.777159</td>\n",
       "      <td>161190</td>\n",
       "      <td>43.754488</td>\n",
       "      <td>3</td>\n",
       "      <td>685821</td>\n",
       "      <td>False</td>\n",
       "    </tr>\n",
       "    <tr>\n",
       "      <th>2020-10-08</th>\n",
       "      <td>286.931667</td>\n",
       "      <td>2020-10-08</td>\n",
       "      <td>294.066667</td>\n",
       "      <td>63.779661</td>\n",
       "      <td>92.355932</td>\n",
       "      <td>21848</td>\n",
       "      <td>44.005950</td>\n",
       "      <td>172429</td>\n",
       "      <td>44.513574</td>\n",
       "      <td>4</td>\n",
       "      <td>707669</td>\n",
       "      <td>False</td>\n",
       "    </tr>\n",
       "    <tr>\n",
       "      <th>2020-10-09</th>\n",
       "      <td>286.233333</td>\n",
       "      <td>2020-10-09</td>\n",
       "      <td>292.690000</td>\n",
       "      <td>66.762712</td>\n",
       "      <td>93.186441</td>\n",
       "      <td>22504</td>\n",
       "      <td>44.637620</td>\n",
       "      <td>190321</td>\n",
       "      <td>45.237005</td>\n",
       "      <td>5</td>\n",
       "      <td>730173</td>\n",
       "      <td>False</td>\n",
       "    </tr>\n",
       "  </tbody>\n",
       "</table>\n",
       "<p>150 rows × 12 columns</p>\n",
       "</div>"
      ],
      "text/plain": [
       "                 T_min        date       T_max      H_min      H_max    pos  \\\n",
       "date                                                                          \n",
       "2020-05-13  284.926667  2020-05-13  290.505000  64.661017  88.135593    882   \n",
       "2020-05-14  285.050000  2020-05-14  290.963333  59.406780  84.847458    980   \n",
       "2020-05-15  285.308333  2020-05-15  291.920000  57.372881  82.966102   1031   \n",
       "2020-05-16  284.956667  2020-05-16  293.500000  53.741379  86.534483    291   \n",
       "2020-05-17  285.598333  2020-05-17  294.446667  49.879310  85.500000    139   \n",
       "...                ...         ...         ...        ...        ...    ...   \n",
       "2020-10-05  285.878333  2020-10-05  290.990000  67.779661  91.186441  21050   \n",
       "2020-10-06  286.891667  2020-10-06  292.201667  67.508475  89.983051  19329   \n",
       "2020-10-07  286.887288  2020-10-07  292.333051  62.500000  90.655172  20279   \n",
       "2020-10-08  286.931667  2020-10-08  294.066667  63.779661  92.355932  21848   \n",
       "2020-10-09  286.233333  2020-10-09  292.690000  66.762712  93.186441  22504   \n",
       "\n",
       "              age_pos    test   age_test  day_num  nb_cases  train  \n",
       "date                                                                \n",
       "2020-05-13  60.987528   38783  55.446794        3    141109   True  \n",
       "2020-05-14  60.435714   41562  54.797940        4    142089   True  \n",
       "2020-05-15  59.838991   47014  54.314311        5    143120   True  \n",
       "2020-05-16  60.158076   16144  54.354001        6    143411   True  \n",
       "2020-05-17  61.568345    6267  58.061752        0    143550   True  \n",
       "...               ...     ...        ...      ...       ...    ...  \n",
       "2020-10-05  44.374394  179242  46.053564        1    646213  False  \n",
       "2020-10-06  44.535361  164065  44.719617        2    665542  False  \n",
       "2020-10-07  43.777159  161190  43.754488        3    685821  False  \n",
       "2020-10-08  44.005950  172429  44.513574        4    707669  False  \n",
       "2020-10-09  44.637620  190321  45.237005        5    730173  False  \n",
       "\n",
       "[150 rows x 12 columns]"
      ]
     },
     "execution_count": 3,
     "metadata": {},
     "output_type": "execute_result"
    }
   ],
   "source": [
    "df_feat_fr = pd.read_csv(PATH_DF_FEAT_FR)\n",
    "df_feat_fr.index = df_feat_fr[\"date\"]\n",
    "df_feat_fr[\"train\"] = [True if I <= TRAIN_SPLIT else False \\\n",
    "                       for I in range(df_feat_fr.shape[0])]\n",
    "df_feat_fr\n"
   ]
  },
  {
   "cell_type": "markdown",
   "metadata": {},
   "source": [
    "### prepare features"
   ]
  },
  {
   "cell_type": "code",
   "execution_count": 4,
   "metadata": {},
   "outputs": [
    {
     "data": {
      "text/html": [
       "<div>\n",
       "<style scoped>\n",
       "    .dataframe tbody tr th:only-of-type {\n",
       "        vertical-align: middle;\n",
       "    }\n",
       "\n",
       "    .dataframe tbody tr th {\n",
       "        vertical-align: top;\n",
       "    }\n",
       "\n",
       "    .dataframe thead th {\n",
       "        text-align: right;\n",
       "    }\n",
       "</style>\n",
       "<table border=\"1\" class=\"dataframe\">\n",
       "  <thead>\n",
       "    <tr style=\"text-align: right;\">\n",
       "      <th></th>\n",
       "      <th>T_min</th>\n",
       "      <th>T_max</th>\n",
       "      <th>H_min</th>\n",
       "      <th>H_max</th>\n",
       "      <th>pos</th>\n",
       "      <th>test</th>\n",
       "      <th>day_num</th>\n",
       "      <th>age_pos</th>\n",
       "      <th>age_test</th>\n",
       "    </tr>\n",
       "    <tr>\n",
       "      <th>date</th>\n",
       "      <th></th>\n",
       "      <th></th>\n",
       "      <th></th>\n",
       "      <th></th>\n",
       "      <th></th>\n",
       "      <th></th>\n",
       "      <th></th>\n",
       "      <th></th>\n",
       "      <th></th>\n",
       "    </tr>\n",
       "  </thead>\n",
       "  <tbody>\n",
       "    <tr>\n",
       "      <th>2020-05-13</th>\n",
       "      <td>284.926667</td>\n",
       "      <td>290.505000</td>\n",
       "      <td>64.661017</td>\n",
       "      <td>88.135593</td>\n",
       "      <td>882</td>\n",
       "      <td>38783</td>\n",
       "      <td>3</td>\n",
       "      <td>60.987528</td>\n",
       "      <td>55.446794</td>\n",
       "    </tr>\n",
       "    <tr>\n",
       "      <th>2020-05-14</th>\n",
       "      <td>285.050000</td>\n",
       "      <td>290.963333</td>\n",
       "      <td>59.406780</td>\n",
       "      <td>84.847458</td>\n",
       "      <td>980</td>\n",
       "      <td>41562</td>\n",
       "      <td>4</td>\n",
       "      <td>60.435714</td>\n",
       "      <td>54.797940</td>\n",
       "    </tr>\n",
       "    <tr>\n",
       "      <th>2020-05-15</th>\n",
       "      <td>285.308333</td>\n",
       "      <td>291.920000</td>\n",
       "      <td>57.372881</td>\n",
       "      <td>82.966102</td>\n",
       "      <td>1031</td>\n",
       "      <td>47014</td>\n",
       "      <td>5</td>\n",
       "      <td>59.838991</td>\n",
       "      <td>54.314311</td>\n",
       "    </tr>\n",
       "    <tr>\n",
       "      <th>2020-05-16</th>\n",
       "      <td>284.956667</td>\n",
       "      <td>293.500000</td>\n",
       "      <td>53.741379</td>\n",
       "      <td>86.534483</td>\n",
       "      <td>291</td>\n",
       "      <td>16144</td>\n",
       "      <td>6</td>\n",
       "      <td>60.158076</td>\n",
       "      <td>54.354001</td>\n",
       "    </tr>\n",
       "    <tr>\n",
       "      <th>2020-05-17</th>\n",
       "      <td>285.598333</td>\n",
       "      <td>294.446667</td>\n",
       "      <td>49.879310</td>\n",
       "      <td>85.500000</td>\n",
       "      <td>139</td>\n",
       "      <td>6267</td>\n",
       "      <td>0</td>\n",
       "      <td>61.568345</td>\n",
       "      <td>58.061752</td>\n",
       "    </tr>\n",
       "    <tr>\n",
       "      <th>...</th>\n",
       "      <td>...</td>\n",
       "      <td>...</td>\n",
       "      <td>...</td>\n",
       "      <td>...</td>\n",
       "      <td>...</td>\n",
       "      <td>...</td>\n",
       "      <td>...</td>\n",
       "      <td>...</td>\n",
       "      <td>...</td>\n",
       "    </tr>\n",
       "    <tr>\n",
       "      <th>2020-10-05</th>\n",
       "      <td>285.878333</td>\n",
       "      <td>290.990000</td>\n",
       "      <td>67.779661</td>\n",
       "      <td>91.186441</td>\n",
       "      <td>21050</td>\n",
       "      <td>179242</td>\n",
       "      <td>1</td>\n",
       "      <td>44.374394</td>\n",
       "      <td>46.053564</td>\n",
       "    </tr>\n",
       "    <tr>\n",
       "      <th>2020-10-06</th>\n",
       "      <td>286.891667</td>\n",
       "      <td>292.201667</td>\n",
       "      <td>67.508475</td>\n",
       "      <td>89.983051</td>\n",
       "      <td>19329</td>\n",
       "      <td>164065</td>\n",
       "      <td>2</td>\n",
       "      <td>44.535361</td>\n",
       "      <td>44.719617</td>\n",
       "    </tr>\n",
       "    <tr>\n",
       "      <th>2020-10-07</th>\n",
       "      <td>286.887288</td>\n",
       "      <td>292.333051</td>\n",
       "      <td>62.500000</td>\n",
       "      <td>90.655172</td>\n",
       "      <td>20279</td>\n",
       "      <td>161190</td>\n",
       "      <td>3</td>\n",
       "      <td>43.777159</td>\n",
       "      <td>43.754488</td>\n",
       "    </tr>\n",
       "    <tr>\n",
       "      <th>2020-10-08</th>\n",
       "      <td>286.931667</td>\n",
       "      <td>294.066667</td>\n",
       "      <td>63.779661</td>\n",
       "      <td>92.355932</td>\n",
       "      <td>21848</td>\n",
       "      <td>172429</td>\n",
       "      <td>4</td>\n",
       "      <td>44.005950</td>\n",
       "      <td>44.513574</td>\n",
       "    </tr>\n",
       "    <tr>\n",
       "      <th>2020-10-09</th>\n",
       "      <td>286.233333</td>\n",
       "      <td>292.690000</td>\n",
       "      <td>66.762712</td>\n",
       "      <td>93.186441</td>\n",
       "      <td>22504</td>\n",
       "      <td>190321</td>\n",
       "      <td>5</td>\n",
       "      <td>44.637620</td>\n",
       "      <td>45.237005</td>\n",
       "    </tr>\n",
       "  </tbody>\n",
       "</table>\n",
       "<p>150 rows × 9 columns</p>\n",
       "</div>"
      ],
      "text/plain": [
       "                 T_min       T_max      H_min      H_max    pos    test  \\\n",
       "date                                                                      \n",
       "2020-05-13  284.926667  290.505000  64.661017  88.135593    882   38783   \n",
       "2020-05-14  285.050000  290.963333  59.406780  84.847458    980   41562   \n",
       "2020-05-15  285.308333  291.920000  57.372881  82.966102   1031   47014   \n",
       "2020-05-16  284.956667  293.500000  53.741379  86.534483    291   16144   \n",
       "2020-05-17  285.598333  294.446667  49.879310  85.500000    139    6267   \n",
       "...                ...         ...        ...        ...    ...     ...   \n",
       "2020-10-05  285.878333  290.990000  67.779661  91.186441  21050  179242   \n",
       "2020-10-06  286.891667  292.201667  67.508475  89.983051  19329  164065   \n",
       "2020-10-07  286.887288  292.333051  62.500000  90.655172  20279  161190   \n",
       "2020-10-08  286.931667  294.066667  63.779661  92.355932  21848  172429   \n",
       "2020-10-09  286.233333  292.690000  66.762712  93.186441  22504  190321   \n",
       "\n",
       "            day_num    age_pos   age_test  \n",
       "date                                       \n",
       "2020-05-13        3  60.987528  55.446794  \n",
       "2020-05-14        4  60.435714  54.797940  \n",
       "2020-05-15        5  59.838991  54.314311  \n",
       "2020-05-16        6  60.158076  54.354001  \n",
       "2020-05-17        0  61.568345  58.061752  \n",
       "...             ...        ...        ...  \n",
       "2020-10-05        1  44.374394  46.053564  \n",
       "2020-10-06        2  44.535361  44.719617  \n",
       "2020-10-07        3  43.777159  43.754488  \n",
       "2020-10-08        4  44.005950  44.513574  \n",
       "2020-10-09        5  44.637620  45.237005  \n",
       "\n",
       "[150 rows x 9 columns]"
      ]
     },
     "execution_count": 4,
     "metadata": {},
     "output_type": "execute_result"
    }
   ],
   "source": [
    "features = df_feat_fr.copy().filter(items=['T_min', 'T_max', 'H_min',\n",
    "                                           'H_max', 'pos', 'test', 'day_num',\n",
    "                                          'age_pos', 'age_test'])\n",
    "features"
   ]
  },
  {
   "cell_type": "markdown",
   "metadata": {},
   "source": [
    "### Prepare dataset"
   ]
  },
  {
   "cell_type": "code",
   "execution_count": 5,
   "metadata": {},
   "outputs": [],
   "source": [
    "dataset = features.values\n",
    "data_mean = dataset[:TRAIN_SPLIT].mean(axis=0)\n",
    "data_std = dataset[:TRAIN_SPLIT].std(axis=0)\n",
    "dataset = (dataset-data_mean)/data_std"
   ]
  },
  {
   "cell_type": "code",
   "execution_count": 6,
   "metadata": {},
   "outputs": [
    {
     "data": {
      "text/plain": [
       "9"
      ]
     },
     "execution_count": 6,
     "metadata": {},
     "output_type": "execute_result"
    }
   ],
   "source": [
    "dataset.shape[1]"
   ]
  },
  {
   "cell_type": "code",
   "execution_count": 7,
   "metadata": {},
   "outputs": [
    {
     "data": {
      "text/plain": [
       "14"
      ]
     },
     "execution_count": 7,
     "metadata": {},
     "output_type": "execute_result"
    }
   ],
   "source": [
    "PAST_HISTORY"
   ]
  },
  {
   "cell_type": "code",
   "execution_count": 9,
   "metadata": {},
   "outputs": [
    {
     "data": {
      "text/plain": [
       "9"
      ]
     },
     "execution_count": 9,
     "metadata": {},
     "output_type": "execute_result"
    }
   ],
   "source": [
    "dataset.shape[1]"
   ]
  },
  {
   "cell_type": "markdown",
   "metadata": {},
   "source": [
    "### Load model"
   ]
  },
  {
   "cell_type": "code",
   "execution_count": 6,
   "metadata": {},
   "outputs": [
    {
     "name": "stdout",
     "output_type": "stream",
     "text": [
      "WARNING:tensorflow:Inconsistent references when loading the checkpoint into this object graph. Either the Trackable object references in the Python program have changed in an incompatible way, or the checkpoint was generated in an incompatible program.\n",
      "\n",
      "Two checkpoint references resolved to different objects (<tensorflow.python.keras.layers.recurrent_v2.LSTM object at 0x64a438650> and <tensorflow.python.keras.layers.core.Dropout object at 0x64a4b2490>).\n",
      "WARNING:tensorflow:Inconsistent references when loading the checkpoint into this object graph. Either the Trackable object references in the Python program have changed in an incompatible way, or the checkpoint was generated in an incompatible program.\n",
      "\n",
      "Two checkpoint references resolved to different objects (<tensorflow.python.keras.layers.normalization_v2.BatchNormalization object at 0x64a4b2d10> and <tensorflow.python.keras.layers.core.Dense object at 0x64a4c62d0>).\n",
      "WARNING:tensorflow:Inconsistent references when loading the checkpoint into this object graph. Either the Trackable object references in the Python program have changed in an incompatible way, or the checkpoint was generated in an incompatible program.\n",
      "\n",
      "Two checkpoint references resolved to different objects (<tensorflow.python.keras.layers.normalization_v2.BatchNormalization object at 0x64a4b2d10> and <tensorflow.python.keras.layers.core.Dropout object at 0x64a4b2490>).\n",
      "CPU times: user 2.39 s, sys: 180 ms, total: 2.57 s\n",
      "Wall time: 3.21 s\n"
     ]
    }
   ],
   "source": [
    "%%time\n",
    "# reload best model\n",
    "multi_step_model = tf.keras.models.load_model(PATH_MDL_MULTI_STEP)"
   ]
  },
  {
   "cell_type": "code",
   "execution_count": 11,
   "metadata": {},
   "outputs": [
    {
     "data": {
      "text/plain": [
       "tf.float32"
      ]
     },
     "execution_count": 11,
     "metadata": {},
     "output_type": "execute_result"
    }
   ],
   "source": [
    "multi_step_model.inputs[0].dtype"
   ]
  },
  {
   "cell_type": "code",
   "execution_count": 12,
   "metadata": {
    "scrolled": false
   },
   "outputs": [
    {
     "name": "stdout",
     "output_type": "stream",
     "text": [
      "WARNING:tensorflow:From /anaconda3/envs/coronavirusModel/lib/python3.7/site-packages/tensorflow/python/training/tracking/tracking.py:111: Model.state_updates (from tensorflow.python.keras.engine.training) is deprecated and will be removed in a future version.\n",
      "Instructions for updating:\n",
      "This property should not be used in TensorFlow 2.0, as updates are applied automatically.\n",
      "WARNING:tensorflow:From /anaconda3/envs/coronavirusModel/lib/python3.7/site-packages/tensorflow/python/training/tracking/tracking.py:111: Layer.updates (from tensorflow.python.keras.engine.base_layer) is deprecated and will be removed in a future version.\n",
      "Instructions for updating:\n",
      "This property should not be used in TensorFlow 2.0, as updates are applied automatically.\n",
      "INFO:tensorflow:Assets written to: ./keras_lstm/assets\n"
     ]
    }
   ],
   "source": [
    "run_model = tf.function(lambda x: multi_step_model(x))\n",
    "# This is important, let's fix the input size.\n",
    "INPUT_SIZE = dataset.shape[1]\n",
    "concrete_func = run_model.get_concrete_function(\n",
    "    tf.TensorSpec([1, PAST_HISTORY, INPUT_SIZE],\n",
    "                  multi_step_model.inputs[0].dtype))\n",
    "\n",
    "# model directory.\n",
    "MODEL_DIR = PATH_TO_SAVE_DATA + \"/\" + \"keras_lstm\"\n",
    "multi_step_model.save(MODEL_DIR, save_format=\"tf\", signatures=concrete_func)\n",
    "\n",
    "converter = tf.lite.TFLiteConverter.from_saved_model(MODEL_DIR)\n",
    "\n",
    "'''converter.target_spec.supported_ops = [\n",
    "  tf.lite.OpsSet.TFLITE_BUILTINS, # enable TensorFlow Lite ops.\n",
    "  tf.lite.OpsSet.SELECT_TF_OPS # enable TensorFlow ops.\n",
    "]\n",
    "converter.allow_custom_ops=True'''\n",
    "\n",
    "tflite_model = converter.convert()"
   ]
  },
  {
   "cell_type": "markdown",
   "metadata": {},
   "source": [
    "### Save model TFlite"
   ]
  },
  {
   "cell_type": "code",
   "execution_count": 18,
   "metadata": {},
   "outputs": [
    {
     "name": "stdout",
     "output_type": "stream",
     "text": [
      "File ./serverless/tensorflow-lite-on-aws-lambda/converted_model_20201013_16_10_52.tflite moved!\n"
     ]
    }
   ],
   "source": [
    "clean_file(PATH_MDL_MULTI_TFLITE_FILE)"
   ]
  },
  {
   "cell_type": "code",
   "execution_count": 19,
   "metadata": {},
   "outputs": [
    {
     "data": {
      "text/plain": [
       "6104"
      ]
     },
     "execution_count": 19,
     "metadata": {},
     "output_type": "execute_result"
    }
   ],
   "source": [
    "open(PATH_MDL_MULTI_TFLITE_FILE, \"wb\").write(tflite_model)"
   ]
  },
  {
   "cell_type": "markdown",
   "metadata": {},
   "source": [
    "## Test converted model"
   ]
  },
  {
   "cell_type": "markdown",
   "metadata": {},
   "source": [
    "### Predict with TF model (not-converted one)"
   ]
  },
  {
   "cell_type": "markdown",
   "metadata": {},
   "source": [
    "#### Past days"
   ]
  },
  {
   "cell_type": "code",
   "execution_count": 13,
   "metadata": {},
   "outputs": [
    {
     "name": "stdout",
     "output_type": "stream",
     "text": [
      "[58 - 72]\n",
      "[65 - 79]\n",
      "[72 - 86]\n",
      "[79 - 93]\n",
      "[86 - 100]\n",
      "[93 - 107]\n",
      "[100 - 114]\n",
      "[107 - 121]\n",
      "[114 - 128]\n",
      "9\n"
     ]
    },
    {
     "data": {
      "text/plain": [
       "array([[  794.5288 ,   573.51807,   737.17773,   900.4536 ,  1175.0247 ,\n",
       "         1443.3992 ,  1514.1774 ,  1121.8164 ,   728.08716,  1069.773  ,\n",
       "         1386.3735 ,  1821.0499 ,  2134.6592 ,  2111.8167 ,  1611.1193 ,\n",
       "         1343.5469 ,  1666.5892 ,  1936.6885 ,  2481.4229 ,  2893.1072 ,\n",
       "         2925.6177 ,  2851.1897 ,  2217.0862 ,  2752.3855 ,  3274.256  ,\n",
       "         4321.55   ,  4640.0127 ,  4477.878  ,  4013.3765 ,  2749.5605 ,\n",
       "         3690.401  ,  4731.554  ,  6523.129  ,  6793.395  ,  6274.042  ,\n",
       "         6107.9824 ,  3913.3738 ,  4726.2505 ,  6161.122  ,  9262.453  ,\n",
       "         9705.708  ,  8793.549  ,  8174.5415 ,  4993.814  ,  5670.9355 ,\n",
       "         7451.227  , 11374.02   , 11368.275  , 10189.279  ,  9130.381  ,\n",
       "         5029.977  ,  6805.038  ,  9114.294  , 12794.995  , 12616.467  ,\n",
       "        11985.487  , 10027.168  ,  5788.2915 ,  7670.2036 , 10158.787  ,\n",
       "        13778.413  , 12802.281  , 11833.232  ]], dtype=float32)"
      ]
     },
     "execution_count": 13,
     "metadata": {},
     "output_type": "execute_result"
    }
   ],
   "source": [
    "# TENSORFLOW MODEL :\n",
    "# prepare list of past histories\n",
    "list_x = create_list_past_hist(dataset)\n",
    "# predict\n",
    "y_multi_pred = predict_list(list_x, multi_step_model)\n",
    "# convert in positive cases\n",
    "y_pos_pred = (y_multi_pred * data_std[4]) + data_mean[4] \n",
    "y_pos_pred"
   ]
  },
  {
   "cell_type": "markdown",
   "metadata": {},
   "source": [
    "#### Future days"
   ]
  },
  {
   "cell_type": "code",
   "execution_count": 17,
   "metadata": {},
   "outputs": [],
   "source": [
    "# prepare data : very last days\n",
    "x_for_future = np.array([dataset[-PAST_HISTORY:,:]]) \n",
    "# predict next days\n",
    "y_future_pred = multi_step_model.predict(x_for_future)"
   ]
  },
  {
   "cell_type": "markdown",
   "metadata": {},
   "source": [
    "### Predict with TFlite & Compare "
   ]
  },
  {
   "cell_type": "markdown",
   "metadata": {},
   "source": [
    "#### Past days"
   ]
  },
  {
   "cell_type": "code",
   "execution_count": 14,
   "metadata": {},
   "outputs": [
    {
     "name": "stdout",
     "output_type": "stream",
     "text": [
      "Done. The result of TensorFlow matches the result of TensorFlow Lite.\n",
      "Done. The result of TensorFlow matches the result of TensorFlow Lite.\n",
      "Done. The result of TensorFlow matches the result of TensorFlow Lite.\n",
      "Done. The result of TensorFlow matches the result of TensorFlow Lite.\n",
      "Done. The result of TensorFlow matches the result of TensorFlow Lite.\n",
      "Done. The result of TensorFlow matches the result of TensorFlow Lite.\n",
      "Done. The result of TensorFlow matches the result of TensorFlow Lite.\n",
      "Done. The result of TensorFlow matches the result of TensorFlow Lite.\n",
      "Done. The result of TensorFlow matches the result of TensorFlow Lite.\n"
     ]
    }
   ],
   "source": [
    "# CONVERTED LITE MODEL\n",
    "# load \n",
    "interpreter = tf.lite.Interpreter(model_content=tflite_model)\n",
    "\n",
    "# Run the model with TensorFlow Lite\n",
    "interpreter.allocate_tensors()\n",
    "input_details = interpreter.get_input_details()\n",
    "output_details = interpreter.get_output_details()\n",
    "\n",
    "# check if same results \n",
    "for x_multi in list_x:\n",
    "    # predict with tensorflow model\n",
    "    expected = multi_step_model.predict(x_multi)\n",
    "    # predict with TFlite model\n",
    "    interpreter.set_tensor(input_details[0][\"index\"], \n",
    "                           x_multi.astype(np.float32))\n",
    "    interpreter.invoke()\n",
    "    result = interpreter.get_tensor(output_details[0][\"index\"])\n",
    "\n",
    "    # Assert if the result of TFLite model is consistent with the TF model.\n",
    "    np.testing.assert_almost_equal(expected, result, decimal=3)\n",
    "    print(\"Done. The result of TensorFlow matches the result of TensorFlow Lite.\")\n",
    "\n",
    "    # Please note: TfLite fused Lstm kernel is stateful, so we need to reset\n",
    "    # the states.\n",
    "    # Clean up internal states.\n",
    "    interpreter.reset_all_variables()"
   ]
  },
  {
   "cell_type": "markdown",
   "metadata": {},
   "source": [
    "### Reload Tlite model"
   ]
  },
  {
   "cell_type": "code",
   "execution_count": 15,
   "metadata": {},
   "outputs": [],
   "source": [
    "interpreter = tf.lite.Interpreter(model_path=PATH_MDL_MULTI_TFLITE_FILE)"
   ]
  },
  {
   "cell_type": "code",
   "execution_count": 16,
   "metadata": {},
   "outputs": [
    {
     "data": {
      "text/plain": [
       "'./serverless/tensorflow-lite-on-aws-lambda/converted_model.tflite'"
      ]
     },
     "execution_count": 16,
     "metadata": {},
     "output_type": "execute_result"
    }
   ],
   "source": [
    "PATH_MDL_MULTI_TFLITE_FILE"
   ]
  },
  {
   "cell_type": "markdown",
   "metadata": {},
   "source": [
    "### Predict reloaded model"
   ]
  },
  {
   "cell_type": "markdown",
   "metadata": {},
   "source": [
    "#### Past days"
   ]
  },
  {
   "cell_type": "code",
   "execution_count": 17,
   "metadata": {},
   "outputs": [
    {
     "name": "stdout",
     "output_type": "stream",
     "text": [
      "Done. The result of TensorFlow matches the result of TensorFlow Lite.\n",
      "Done. The result of TensorFlow matches the result of TensorFlow Lite.\n",
      "Done. The result of TensorFlow matches the result of TensorFlow Lite.\n",
      "Done. The result of TensorFlow matches the result of TensorFlow Lite.\n",
      "Done. The result of TensorFlow matches the result of TensorFlow Lite.\n",
      "Done. The result of TensorFlow matches the result of TensorFlow Lite.\n",
      "Done. The result of TensorFlow matches the result of TensorFlow Lite.\n",
      "Done. The result of TensorFlow matches the result of TensorFlow Lite.\n",
      "Done. The result of TensorFlow matches the result of TensorFlow Lite.\n"
     ]
    }
   ],
   "source": [
    "# Run the model with TensorFlow Lite\n",
    "interpreter.allocate_tensors()\n",
    "input_details = interpreter.get_input_details()\n",
    "output_details = interpreter.get_output_details()\n",
    "\n",
    "# check if same results \n",
    "for x_multi in list_x:\n",
    "    \n",
    "    expected = multi_step_model.predict(x_multi)\n",
    "    \n",
    "    interpreter.set_tensor(input_details[0][\"index\"], \n",
    "                           x_multi.astype(np.float32))\n",
    "    interpreter.invoke()\n",
    "    result = interpreter.get_tensor(output_details[0][\"index\"])\n",
    "\n",
    "    # Assert if the result of TFLite model is consistent with the TF model.\n",
    "    np.testing.assert_almost_equal(expected, result, decimal=3)\n",
    "    print(\"Done. The result of TensorFlow matches the result of TensorFlow Lite.\")\n",
    "\n",
    "    # Please note: TfLite fused Lstm kernel is stateful, so we need to reset\n",
    "    # the states.\n",
    "    # Clean up internal states.\n",
    "    interpreter.reset_all_variables()"
   ]
  },
  {
   "cell_type": "code",
   "execution_count": 18,
   "metadata": {},
   "outputs": [
    {
     "data": {
      "text/plain": [
       "(1, 14, 9)"
      ]
     },
     "execution_count": 18,
     "metadata": {},
     "output_type": "execute_result"
    }
   ],
   "source": [
    "x_multi.shape"
   ]
  },
  {
   "cell_type": "code",
   "execution_count": 19,
   "metadata": {},
   "outputs": [
    {
     "data": {
      "text/plain": [
       "9"
      ]
     },
     "execution_count": 19,
     "metadata": {},
     "output_type": "execute_result"
    }
   ],
   "source": [
    "len(list_x)"
   ]
  },
  {
   "cell_type": "markdown",
   "metadata": {},
   "source": [
    "## Update API lambda AWS"
   ]
  },
  {
   "cell_type": "markdown",
   "metadata": {},
   "source": [
    "### API lambda simulate"
   ]
  },
  {
   "cell_type": "markdown",
   "metadata": {},
   "source": [
    "#### Past days"
   ]
  },
  {
   "cell_type": "code",
   "execution_count": 7,
   "metadata": {},
   "outputs": [
    {
     "data": {
      "text/plain": [
       "(150, 9)"
      ]
     },
     "execution_count": 7,
     "metadata": {},
     "output_type": "execute_result"
    }
   ],
   "source": [
    "dataset.shape"
   ]
  },
  {
   "cell_type": "code",
   "execution_count": 8,
   "metadata": {},
   "outputs": [
    {
     "name": "stdout",
     "output_type": "stream",
     "text": [
      "[58 - 72]\n",
      "[65 - 79]\n",
      "[72 - 86]\n",
      "[79 - 93]\n",
      "[86 - 100]\n",
      "[93 - 107]\n",
      "[100 - 114]\n",
      "[107 - 121]\n",
      "[114 - 128]\n"
     ]
    }
   ],
   "source": [
    "json_list_list_x = prepare_to_lambda(dataset)\n",
    "# simulate input to lambda (double dumps ? why ? i don't know yet)\n",
    "json_list_list_x = json.dumps(json_list_list_x)\n",
    "# simulate lambda\n",
    "\n",
    "event = {\"body\": json_list_list_x}"
   ]
  },
  {
   "cell_type": "code",
   "execution_count": 9,
   "metadata": {},
   "outputs": [
    {
     "name": "stdout",
     "output_type": "stream",
     "text": [
      "INPUT : nb. arrays : 9 / arrays shape: (1, 14, 9)\n",
      "OUTPUT : nb. arrays : 9 / arrays shape in list: (1, 7)\n"
     ]
    }
   ],
   "source": [
    "# lambda code (file ./serverless/tensorflow-lite-on-aws-lambda/handler.py)\n",
    "from serverless.tensorflow_lite_on_aws_lambda.handler import predict\n",
    "context = None\n",
    "response = predict(event, context)\n"
   ]
  },
  {
   "cell_type": "code",
   "execution_count": 10,
   "metadata": {},
   "outputs": [
    {
     "data": {
      "text/plain": [
       "(1, 63)"
      ]
     },
     "execution_count": 10,
     "metadata": {},
     "output_type": "execute_result"
    }
   ],
   "source": [
    "# Retrieve from lambda in App code\n",
    "# input : response\n",
    "y_multi_pred_out = retrieve_from_lambda(response)      \n",
    "y_multi_pred_out.shape"
   ]
  },
  {
   "cell_type": "code",
   "execution_count": 14,
   "metadata": {},
   "outputs": [
    {
     "data": {
      "text/plain": [
       "array([[-0.5215859 , -0.5768295 , -0.53592134, -0.49510905, -0.42647755,\n",
       "        -0.35939494, -0.3417033 , -0.43977743, -0.5381936 , -0.45278615,\n",
       "        -0.373649  , -0.26499775, -0.1866083 , -0.19231798, -0.3174718 ,\n",
       "        -0.3843539 , -0.30360657, -0.23609285, -0.09993161,  0.00297262,\n",
       "         0.01109887, -0.00750506, -0.16600493, -0.03220204,  0.09824418,\n",
       "         0.3600246 ,  0.43962738,  0.3991003 ,  0.282994  , -0.03290816,\n",
       "         0.20226333,  0.46250895,  0.9103291 ,  0.97788453,  0.84806764,\n",
       "         0.80655944,  0.2579974 ,  0.46118325,  0.8198422 ,  1.595048  ,\n",
       "         1.7058433 ,  1.4778409 ,  1.3231145 ,  0.5280631 ,  0.6973157 ,\n",
       "         1.1423156 ,  2.1228528 ,  2.121417  ,  1.8267164 ,  1.562035  ,\n",
       "         0.5371024 ,  0.9807949 ,  1.558014  ,  2.4780383 ,  2.4334135 ,\n",
       "         2.2756946 ,  1.7861952 ,  0.7266499 ,  1.1970507 ,  1.8190945 ,\n",
       "         2.7238524 ,  2.4798596 ,  2.237637  ]], dtype=float32)"
      ]
     },
     "execution_count": 14,
     "metadata": {},
     "output_type": "execute_result"
    }
   ],
   "source": [
    "y_multi_pred"
   ]
  },
  {
   "cell_type": "code",
   "execution_count": 15,
   "metadata": {},
   "outputs": [
    {
     "data": {
      "text/plain": [
       "array([[-0.52158588, -0.57682955, -0.53592134, -0.49510905, -0.42647755,\n",
       "        -0.35939491, -0.3417033 , -0.43977746, -0.53819364, -0.45278609,\n",
       "        -0.37364897, -0.26499775, -0.18660831, -0.19231798, -0.3174718 ,\n",
       "        -0.38435394, -0.30360657, -0.23609282, -0.09993155,  0.00297264,\n",
       "         0.01109889, -0.00750511, -0.16600499, -0.03220204,  0.09824423,\n",
       "         0.36002466,  0.43962744,  0.39910024,  0.28299406, -0.03290813,\n",
       "         0.20226336,  0.46250895,  0.91032916,  0.97788471,  0.84806776,\n",
       "         0.80655932,  0.25799748,  0.46118319,  0.81984198,  1.59504771,\n",
       "         1.70584309,  1.4778409 ,  1.32311451,  0.52806294,  0.69731563,\n",
       "         1.14231563,  2.1228528 ,  2.12141705,  1.82671642,  1.5620352 ,\n",
       "         0.53710246,  0.98079509,  1.55801415,  2.47803831,  2.43341351,\n",
       "         2.27569461,  1.78619468,  0.72664964,  1.19705021,  1.81909394,\n",
       "         2.72385192,  2.47985911,  2.23763657]])"
      ]
     },
     "execution_count": 15,
     "metadata": {},
     "output_type": "execute_result"
    }
   ],
   "source": [
    "y_multi_pred_out"
   ]
  },
  {
   "cell_type": "code",
   "execution_count": 16,
   "metadata": {},
   "outputs": [
    {
     "name": "stdout",
     "output_type": "stream",
     "text": [
      "Done. The result of TensorFlow matches the result of TensorFlow Lite.\n"
     ]
    }
   ],
   "source": [
    "# Assert if the result of TFLite model is consistent with the TF model.\n",
    "np.testing.assert_almost_equal(y_multi_pred, y_multi_pred_out, decimal=3)\n",
    "print(\"Done. The result of TensorFlow matches the result of TensorFlow Lite.\")"
   ]
  },
  {
   "cell_type": "markdown",
   "metadata": {},
   "source": [
    "#### Future days"
   ]
  },
  {
   "cell_type": "code",
   "execution_count": 18,
   "metadata": {},
   "outputs": [
    {
     "name": "stdout",
     "output_type": "stream",
     "text": [
      "INPUT : nb. arrays : 1 / arrays shape: (1, 14, 9)\n",
      "OUTPUT : nb. arrays : 1 / arrays shape in list: (1, 7)\n"
     ]
    },
    {
     "data": {
      "text/plain": [
       "(1, 7)"
      ]
     },
     "execution_count": 18,
     "metadata": {},
     "output_type": "execute_result"
    }
   ],
   "source": [
    "# Prepare data to lambda (future)\n",
    "json_list_list_x = prepare_to_lambda_future(dataset)\n",
    "\n",
    "# simulate lambda\n",
    "json_list_list_x = json.dumps(json_list_list_x) # dumps again : I dont know why\n",
    "event = {\"body\": json_list_list_x}\n",
    "context = None\n",
    "response = predict(event, context)\n",
    "y_future_pred_out = retrieve_from_lambda(response)      \n",
    "y_future_pred_out.shape"
   ]
  },
  {
   "cell_type": "code",
   "execution_count": 19,
   "metadata": {},
   "outputs": [
    {
     "data": {
      "text/plain": [
       "array([[1.39357936, 0.30257225, 0.68753117, 1.21259177, 2.36455131,\n",
       "        2.46670485, 2.13953042]])"
      ]
     },
     "execution_count": 19,
     "metadata": {},
     "output_type": "execute_result"
    }
   ],
   "source": [
    "y_future_pred_out"
   ]
  },
  {
   "cell_type": "code",
   "execution_count": 20,
   "metadata": {},
   "outputs": [
    {
     "data": {
      "text/plain": [
       "array([[1.3935794 , 0.30257258, 0.687531  , 1.2125915 , 2.3645513 ,\n",
       "        2.4667053 , 2.1395302 ]], dtype=float32)"
      ]
     },
     "execution_count": 20,
     "metadata": {},
     "output_type": "execute_result"
    }
   ],
   "source": [
    "y_future_pred"
   ]
  },
  {
   "cell_type": "code",
   "execution_count": 21,
   "metadata": {},
   "outputs": [
    {
     "name": "stdout",
     "output_type": "stream",
     "text": [
      "Done. The result of TensorFlow matches the result of TensorFlow Lite.\n"
     ]
    }
   ],
   "source": [
    "# Assert if the result of TFLite model is consistent with the TF model.\n",
    "np.testing.assert_almost_equal(y_future_pred, y_future_pred_out, decimal=3)\n",
    "print(\"Done. The result of TensorFlow matches the result of TensorFlow Lite.\")"
   ]
  },
  {
   "cell_type": "markdown",
   "metadata": {},
   "source": [
    "### Update AWS Lambda with new model\n"
   ]
  },
  {
   "cell_type": "markdown",
   "metadata": {},
   "source": [
    "This part does:\n",
    "- Go to : ./serverless//tensorflow-lite-on-aws-lambda\n",
    "    \n",
    "- Execute : sls deploy -v"
   ]
  },
  {
   "cell_type": "code",
   "execution_count": 22,
   "metadata": {},
   "outputs": [
    {
     "data": {
      "text/plain": [
       "'#!/bin/bash\\nexport PATH=\"/usr/local/bin:$PATH\"\\ncd ./serverless/tensorflow_lite_on_aws_lambda\\nserverless deploy -v'"
      ]
     },
     "execution_count": 22,
     "metadata": {},
     "output_type": "execute_result"
    }
   ],
   "source": [
    "str_exe = '#!/bin/bash\\n' + \\\n",
    "    'export PATH=\"/usr/local/bin:$PATH\"\\n' + \\\n",
    "    f'cd {PATH_MDL_MULTI_TFLITE}\\n' + \\\n",
    "    'serverless deploy -v'\n",
    "str_exe"
   ]
  },
  {
   "cell_type": "code",
   "execution_count": 23,
   "metadata": {},
   "outputs": [],
   "source": [
    "open('deploy_serverless.sh', \"w\").write(str_exe)\n",
    "os.chmod('deploy_serverless.sh', stat.S_IRWXU)"
   ]
  },
  {
   "cell_type": "code",
   "execution_count": 24,
   "metadata": {},
   "outputs": [
    {
     "name": "stdout",
     "output_type": "stream",
     "text": [
      "#!/bin/bash\r\n",
      "export PATH=\"/usr/local/bin:$PATH\"\r\n",
      "cd ./serverless/tensorflow_lite_on_aws_lambda\r\n",
      "serverless deploy -v"
     ]
    }
   ],
   "source": [
    "!cat ./deploy_serverless.sh"
   ]
  },
  {
   "cell_type": "code",
   "execution_count": 25,
   "metadata": {},
   "outputs": [
    {
     "name": "stdout",
     "output_type": "stream",
     "text": [
      "Serverless: \u001b[33mGenerated requirements from /Users/gregory/Documents/CloudStationSinchon/Applications/python/CoronaVirus/code/coronavirusModel/serverless/tensorflow_lite_on_aws_lambda/requirements.txt in /Users/gregory/Documents/CloudStationSinchon/Applications/python/CoronaVirus/code/coronavirusModel/serverless/tensorflow_lite_on_aws_lambda/.serverless/requirements.txt...\u001b[39m\n",
      "Serverless: \u001b[33mUsing static cache of requirements found at /Users/gregory/Library/Caches/serverless-python-requirements/ef4e42eb03bbad46f74fee99a3c01f994e8119e7a557f947779093ab37b248d3_slspyc ...\u001b[39m\n",
      "Serverless: \u001b[33mPackaging service...\u001b[39m\n",
      "Serverless: \u001b[33mExcluding development dependencies...\u001b[39m\n",
      "Serverless: \u001b[33mInjecting required Python packages to package...\u001b[39m\n",
      "Serverless: \u001b[33mUploading CloudFormation file to S3...\u001b[39m\n",
      "Serverless: \u001b[33mUploading artifacts...\u001b[39m\n",
      "Serverless: \u001b[33mUploading service tensorflow-lite-on-aws-lambda.zip file to S3 (18.4 MB)...\u001b[39m\n",
      "Serverless: \u001b[33mValidating template...\u001b[39m\n",
      "Serverless: \u001b[33mUpdating Stack...\u001b[39m\n",
      "Serverless: \u001b[33mChecking Stack update progress...\u001b[39m\n",
      "CloudFormation - \u001b[33mUPDATE_IN_PROGRESS\u001b[39m - AWS::CloudFormation::Stack - tensorflow-lite-on-aws-lambda-dev\n",
      "CloudFormation - \u001b[33mUPDATE_IN_PROGRESS\u001b[39m - AWS::Lambda::Function - PredictLambdaFunction\n",
      "CloudFormation - \u001b[32mUPDATE_COMPLETE\u001b[39m - AWS::Lambda::Function - PredictLambdaFunction\n",
      "CloudFormation - \u001b[33mCREATE_IN_PROGRESS\u001b[39m - AWS::Lambda::Version - PredictLambdaVersionanKkLwwZlyJLrT6FdTth8HXCizBhd5aTHaxue1skPVI\n",
      "CloudFormation - \u001b[33mCREATE_IN_PROGRESS\u001b[39m - AWS::Lambda::Version - PredictLambdaVersionanKkLwwZlyJLrT6FdTth8HXCizBhd5aTHaxue1skPVI\n",
      "CloudFormation - \u001b[32mCREATE_COMPLETE\u001b[39m - AWS::Lambda::Version - PredictLambdaVersionanKkLwwZlyJLrT6FdTth8HXCizBhd5aTHaxue1skPVI\n",
      "CloudFormation - \u001b[33mCREATE_IN_PROGRESS\u001b[39m - AWS::ApiGateway::Deployment - ApiGatewayDeployment1602727964559\n",
      "CloudFormation - \u001b[33mCREATE_IN_PROGRESS\u001b[39m - AWS::ApiGateway::Deployment - ApiGatewayDeployment1602727964559\n",
      "CloudFormation - \u001b[32mCREATE_COMPLETE\u001b[39m - AWS::ApiGateway::Deployment - ApiGatewayDeployment1602727964559\n",
      "CloudFormation - \u001b[33mUPDATE_COMPLETE_CLEANUP_IN_PROGRESS\u001b[39m - AWS::CloudFormation::Stack - tensorflow-lite-on-aws-lambda-dev\n",
      "CloudFormation - \u001b[33mDELETE_IN_PROGRESS\u001b[39m - AWS::ApiGateway::Deployment - ApiGatewayDeployment1602580073981\n",
      "CloudFormation - DELETE_SKIPPED - AWS::Lambda::Version - PredictLambdaVersion94SXertKJfYwEBHrgbB0A4IlgWF6Cq1ivL25fiIcw\n",
      "CloudFormation - \u001b[32mDELETE_COMPLETE\u001b[39m - AWS::ApiGateway::Deployment - ApiGatewayDeployment1602580073981\n",
      "CloudFormation - \u001b[32mUPDATE_COMPLETE\u001b[39m - AWS::CloudFormation::Stack - tensorflow-lite-on-aws-lambda-dev\n",
      "Serverless: \u001b[33mStack update finished...\u001b[39m\n",
      "\u001b[33m\u001b[4mService Information\u001b[24m\u001b[39m\n",
      "\u001b[33mservice:\u001b[39m tensorflow-lite-on-aws-lambda\n",
      "\u001b[33mstage:\u001b[39m dev\n",
      "\u001b[33mregion:\u001b[39m us-east-2\n",
      "\u001b[33mstack:\u001b[39m tensorflow-lite-on-aws-lambda-dev\n",
      "\u001b[33mresources:\u001b[39m 11\n",
      "\u001b[33mapi keys:\u001b[39m\n",
      "  None\n",
      "\u001b[33mendpoints:\u001b[39m\n",
      "  POST - https://yl0910jrga.execute-api.us-east-2.amazonaws.com/dev/infer\n",
      "\u001b[33mfunctions:\u001b[39m\n",
      "  predict: tensorflow-lite-on-aws-lambda-dev-predict\n",
      "\u001b[33mlayers:\u001b[39m\n",
      "  None\n",
      "\u001b[33m\u001b[4m\u001b[24m\u001b[39m\n",
      "\u001b[33m\u001b[4mStack Outputs\u001b[24m\u001b[39m\n",
      "\u001b[33m\u001b[4m\u001b[24m\u001b[39m\u001b[33mPredictLambdaFunctionQualifiedArn\u001b[39m: arn:aws:lambda:us-east-2:324466407431:function:tensorflow-lite-on-aws-lambda-dev-predict:10\n",
      "\u001b[33mServiceEndpoint\u001b[39m: https://yl0910jrga.execute-api.us-east-2.amazonaws.com/dev\n",
      "\u001b[33mServerlessDeploymentBucketName\u001b[39m: tensorflow-lite-on-aws-l-serverlessdeploymentbuck-1vuz80v36l59q\n",
      "\n",
      "Serverless: \u001b[33mRemoving old service artifacts from S3...\u001b[39m\n",
      "\n",
      "*******************************************************************************\n",
      "Serverless: \u001b[33mUpdate available. Run \"npm install -g serverless@^1.83.0\" to update\u001b[39m\n",
      "*******************************************************************************\n",
      "\n",
      "\n",
      "\u001b[33m\u001b[39m\n",
      "\u001b[33m   ╭───────────────────────────────────────╮\u001b[39m\n",
      "   \u001b[33m│\u001b[39m                                       \u001b[33m│\u001b[39m\n",
      "   \u001b[33m│\u001b[39m   Update available \u001b[2m1.79.0\u001b[22m\u001b[0m → \u001b[0m\u001b[32m2.6.0\u001b[39m     \u001b[33m│\u001b[39m\n",
      "   \u001b[33m│\u001b[39m   Run \u001b[36mnpm i -g serverless\u001b[39m to update   \u001b[33m│\u001b[39m\n",
      "   \u001b[33m│\u001b[39m                                       \u001b[33m│\u001b[39m\n",
      "\u001b[33m   ╰───────────────────────────────────────╯\u001b[39m\n",
      "\u001b[33m\u001b[39m\n"
     ]
    }
   ],
   "source": [
    "!./deploy_serverless.sh"
   ]
  },
  {
   "cell_type": "markdown",
   "metadata": {},
   "source": [
    "### API AWS real Test"
   ]
  },
  {
   "cell_type": "markdown",
   "metadata": {},
   "source": [
    "#### Past days"
   ]
  },
  {
   "cell_type": "code",
   "execution_count": 37,
   "metadata": {},
   "outputs": [
    {
     "name": "stdout",
     "output_type": "stream",
     "text": [
      "[58 - 72]\n",
      "[65 - 79]\n",
      "[72 - 86]\n",
      "[79 - 93]\n",
      "[86 - 100]\n",
      "[93 - 107]\n",
      "[100 - 114]\n",
      "[107 - 121]\n",
      "[114 - 128]\n",
      "status code :  200\n",
      "[[[-0.5216001272201538, -0.5768371820449829, -0.5359305739402771, -0.4951191246509552, -0.42649587988853455, -0.35942143201828003, -0.34173017740249634]], [[-0.43972229957580566, -0.5381525158882141, -0.4527134299278259, -0.3735485374927521, -0.2648811340332031, -0.18651607632637024, -0.19224025309085846]], [[-0.3174644708633423, -0.38433074951171875, -0.30356526374816895, -0.23604823648929596, -0.09988704323768616, 0.00302993506193161, 0.011154964566230774]], [[-0.007503926753997803, -0.16600263118743896, -0.03220542520284653, 0.09823962301015854, 0.3600359559059143, 0.4396497905254364, 0.39911484718322754]], [[0.2830981910228729, -0.03286878764629364, 0.20234274864196777, 0.4626409113407135, 0.910483717918396, 0.9779927134513855, 0.8481712937355042]], [[0.80661541223526, 0.25803759694099426, 0.4612640142440796, 0.8199437856674194, 1.5951529741287231, 1.7059340476989746, 1.477924108505249]], [[1.3232253789901733, 0.5280614495277405, 0.6974382996559143, 1.142532229423523, 2.1230416297912598, 2.1215271949768066, 1.8268533945083618]], [[1.562026858329773, 0.5371406674385071, 0.980837345123291, 1.5580981969833374, 2.478116273880005, 2.433326005935669, 2.275474786758423]], [[1.7862745523452759, 0.7267669439315796, 1.1970322132110596, 1.8190288543701172, 2.7238829135894775, 2.4798614978790283, 2.2375428676605225]]]\n"
     ]
    }
   ],
   "source": [
    "# prepare input\n",
    "json_list_list_x = prepare_to_lambda(dataset)\n",
    "# REQUEST\n",
    "resp = requests.post(URL_PREDICT, json=json_list_list_x)\n",
    "print(\"status code : \", resp.status_code) \n",
    "print(resp.json())"
   ]
  },
  {
   "cell_type": "code",
   "execution_count": 38,
   "metadata": {},
   "outputs": [
    {
     "data": {
      "text/plain": [
       "23745"
      ]
     },
     "execution_count": 38,
     "metadata": {},
     "output_type": "execute_result"
    }
   ],
   "source": [
    "len(json_list_list_x)"
   ]
  },
  {
   "cell_type": "code",
   "execution_count": 39,
   "metadata": {},
   "outputs": [
    {
     "data": {
      "text/plain": [
       "[[[-0.5216001272201538,\n",
       "   -0.5768371820449829,\n",
       "   -0.5359305739402771,\n",
       "   -0.4951191246509552,\n",
       "   -0.42649587988853455,\n",
       "   -0.35942143201828003,\n",
       "   -0.34173017740249634]],\n",
       " [[-0.43972229957580566,\n",
       "   -0.5381525158882141,\n",
       "   -0.4527134299278259,\n",
       "   -0.3735485374927521,\n",
       "   -0.2648811340332031,\n",
       "   -0.18651607632637024,\n",
       "   -0.19224025309085846]],\n",
       " [[-0.3174644708633423,\n",
       "   -0.38433074951171875,\n",
       "   -0.30356526374816895,\n",
       "   -0.23604823648929596,\n",
       "   -0.09988704323768616,\n",
       "   0.00302993506193161,\n",
       "   0.011154964566230774]],\n",
       " [[-0.007503926753997803,\n",
       "   -0.16600263118743896,\n",
       "   -0.03220542520284653,\n",
       "   0.09823962301015854,\n",
       "   0.3600359559059143,\n",
       "   0.4396497905254364,\n",
       "   0.39911484718322754]],\n",
       " [[0.2830981910228729,\n",
       "   -0.03286878764629364,\n",
       "   0.20234274864196777,\n",
       "   0.4626409113407135,\n",
       "   0.910483717918396,\n",
       "   0.9779927134513855,\n",
       "   0.8481712937355042]],\n",
       " [[0.80661541223526,\n",
       "   0.25803759694099426,\n",
       "   0.4612640142440796,\n",
       "   0.8199437856674194,\n",
       "   1.5951529741287231,\n",
       "   1.7059340476989746,\n",
       "   1.477924108505249]],\n",
       " [[1.3232253789901733,\n",
       "   0.5280614495277405,\n",
       "   0.6974382996559143,\n",
       "   1.142532229423523,\n",
       "   2.1230416297912598,\n",
       "   2.1215271949768066,\n",
       "   1.8268533945083618]],\n",
       " [[1.562026858329773,\n",
       "   0.5371406674385071,\n",
       "   0.980837345123291,\n",
       "   1.5580981969833374,\n",
       "   2.478116273880005,\n",
       "   2.433326005935669,\n",
       "   2.275474786758423]],\n",
       " [[1.7862745523452759,\n",
       "   0.7267669439315796,\n",
       "   1.1970322132110596,\n",
       "   1.8190288543701172,\n",
       "   2.7238829135894775,\n",
       "   2.4798614978790283,\n",
       "   2.2375428676605225]]]"
      ]
     },
     "execution_count": 39,
     "metadata": {},
     "output_type": "execute_result"
    }
   ],
   "source": [
    "resp.json()"
   ]
  },
  {
   "cell_type": "code",
   "execution_count": 40,
   "metadata": {},
   "outputs": [
    {
     "data": {
      "text/plain": [
       "(1, 63)"
      ]
     },
     "execution_count": 40,
     "metadata": {},
     "output_type": "execute_result"
    }
   ],
   "source": [
    "y_multi_pred_out = retrieve_from_lambda(resp)      \n",
    "y_multi_pred_out.shape"
   ]
  },
  {
   "cell_type": "code",
   "execution_count": 41,
   "metadata": {},
   "outputs": [
    {
     "data": {
      "text/plain": [
       "array([[-0.52160013, -0.57683718, -0.53593057, -0.49511912, -0.42649588,\n",
       "        -0.35942143, -0.34173018, -0.4397223 , -0.53815252, -0.45271343,\n",
       "        -0.37354854, -0.26488113, -0.18651608, -0.19224025, -0.31746447,\n",
       "        -0.38433075, -0.30356526, -0.23604824, -0.09988704,  0.00302994,\n",
       "         0.01115496, -0.00750393, -0.16600263, -0.03220543,  0.09823962,\n",
       "         0.36003596,  0.43964979,  0.39911485,  0.28309819, -0.03286879,\n",
       "         0.20234275,  0.46264091,  0.91048372,  0.97799271,  0.84817129,\n",
       "         0.80661541,  0.2580376 ,  0.46126401,  0.81994379,  1.59515297,\n",
       "         1.70593405,  1.47792411,  1.32322538,  0.52806145,  0.6974383 ,\n",
       "         1.14253223,  2.12304163,  2.12152719,  1.82685339,  1.56202686,\n",
       "         0.53714067,  0.98083735,  1.5580982 ,  2.47811627,  2.43332601,\n",
       "         2.27547479,  1.78627455,  0.72676694,  1.19703221,  1.81902885,\n",
       "         2.72388291,  2.4798615 ,  2.23754287]])"
      ]
     },
     "execution_count": 41,
     "metadata": {},
     "output_type": "execute_result"
    }
   ],
   "source": [
    "y_multi_pred_out"
   ]
  },
  {
   "cell_type": "code",
   "execution_count": 42,
   "metadata": {},
   "outputs": [
    {
     "data": {
      "text/plain": [
       "array([[-0.52160007, -0.5768372 , -0.5359306 , -0.49511912, -0.42649588,\n",
       "        -0.35942143, -0.34173024, -0.4397223 , -0.53815246, -0.45271343,\n",
       "        -0.37354854, -0.26488113, -0.18651608, -0.19224025, -0.31746444,\n",
       "        -0.38433075, -0.30356523, -0.2360482 , -0.09988704,  0.00302994,\n",
       "         0.01115497, -0.00750393, -0.1660026 , -0.03220541,  0.09823963,\n",
       "         0.36003593,  0.4396498 ,  0.39911485,  0.28309825, -0.03286874,\n",
       "         0.20234275,  0.4626409 ,  0.91048384,  0.9779927 ,  0.8481713 ,\n",
       "         0.8066154 ,  0.25803754,  0.46126416,  0.81994396,  1.5951532 ,\n",
       "         1.705934  ,  1.4779243 ,  1.3232255 ,  0.52806145,  0.69743824,\n",
       "         1.1425322 ,  2.1230419 ,  2.1215272 ,  1.8268535 ,  1.5620267 ,\n",
       "         0.5371407 ,  0.9808372 ,  1.5580981 ,  2.4781163 ,  2.433326  ,\n",
       "         2.2754745 ,  1.7862746 ,  0.726767  ,  1.1970323 ,  1.8190287 ,\n",
       "         2.7238827 ,  2.4798615 ,  2.2375429 ]], dtype=float32)"
      ]
     },
     "execution_count": 42,
     "metadata": {},
     "output_type": "execute_result"
    }
   ],
   "source": [
    "y_multi_pred"
   ]
  },
  {
   "cell_type": "code",
   "execution_count": 43,
   "metadata": {},
   "outputs": [
    {
     "name": "stdout",
     "output_type": "stream",
     "text": [
      "Done. The result of TensorFlow matches the result of TensorFlow Lite.\n"
     ]
    }
   ],
   "source": [
    "# Assert if the result of TFLite model is consistent with the TF model.\n",
    "np.testing.assert_almost_equal(y_multi_pred, y_multi_pred_out, decimal=3)\n",
    "print(\"Done. The result of TensorFlow matches the result of TensorFlow Lite.\")"
   ]
  },
  {
   "cell_type": "markdown",
   "metadata": {},
   "source": [
    "#### future days"
   ]
  },
  {
   "cell_type": "code",
   "execution_count": 44,
   "metadata": {},
   "outputs": [
    {
     "name": "stdout",
     "output_type": "stream",
     "text": [
      "status code :  200\n",
      "[[[2.258720874786377, 1.2291589975357056, 0.11853042989969254, 0.07443636655807495, 2.296689748764038, 2.832331895828247, 2.181868076324463]]]\n"
     ]
    }
   ],
   "source": [
    "# prepare input\n",
    "json_list_list_x = prepare_to_lambda_future(dataset)\n",
    "# REQUEST URL_PREDICT = 'https://yl0910jrga.execute-api.us-east-2.amazonaws.com/dev/infer' \n",
    "resp = requests.post(URL_PREDICT, json=json_list_list_x)\n",
    "print(\"status code : \", resp.status_code) \n",
    "print(resp.json())"
   ]
  },
  {
   "cell_type": "code",
   "execution_count": 45,
   "metadata": {},
   "outputs": [
    {
     "data": {
      "text/plain": [
       "array([[2.25872087, 1.229159  , 0.11853043, 0.07443637, 2.29668975,\n",
       "        2.8323319 , 2.18186808]])"
      ]
     },
     "execution_count": 45,
     "metadata": {},
     "output_type": "execute_result"
    }
   ],
   "source": [
    "y_future_pred_out = retrieve_from_lambda(resp)      \n",
    "y_future_pred_out"
   ]
  },
  {
   "cell_type": "code",
   "execution_count": 46,
   "metadata": {},
   "outputs": [
    {
     "data": {
      "text/plain": [
       "array([[2.2587209 , 1.2291588 , 0.11853043, 0.07443652, 2.2966897 ,\n",
       "        2.8323317 , 2.1818683 ]], dtype=float32)"
      ]
     },
     "execution_count": 46,
     "metadata": {},
     "output_type": "execute_result"
    }
   ],
   "source": [
    "y_future_pred"
   ]
  },
  {
   "cell_type": "code",
   "execution_count": 47,
   "metadata": {},
   "outputs": [
    {
     "name": "stdout",
     "output_type": "stream",
     "text": [
      "Done. The result of TensorFlow matches the result of TensorFlow Lite.\n"
     ]
    }
   ],
   "source": [
    "# Assert if the result of TFLite model is consistent with the TF model.\n",
    "np.testing.assert_almost_equal(y_future_pred, y_future_pred_out, decimal=3)\n",
    "print(\"Done. The result of TensorFlow matches the result of TensorFlow Lite.\")"
   ]
  },
  {
   "cell_type": "code",
   "execution_count": null,
   "metadata": {},
   "outputs": [],
   "source": []
  }
 ],
 "metadata": {
  "kernelspec": {
   "display_name": "Python 3",
   "language": "python",
   "name": "python3"
  },
  "language_info": {
   "codemirror_mode": {
    "name": "ipython",
    "version": 3
   },
   "file_extension": ".py",
   "mimetype": "text/x-python",
   "name": "python",
   "nbconvert_exporter": "python",
   "pygments_lexer": "ipython3",
   "version": "3.7.6"
  },
  "toc": {
   "base_numbering": 1,
   "nav_menu": {
    "height": "260px",
    "width": "258px"
   },
   "number_sections": true,
   "sideBar": true,
   "skip_h1_title": false,
   "title_cell": "Table of Contents",
   "title_sidebar": "Contents",
   "toc_cell": false,
   "toc_position": {
    "height": "calc(100% - 180px)",
    "left": "10px",
    "top": "150px",
    "width": "205px"
   },
   "toc_section_display": true,
   "toc_window_display": true
  }
 },
 "nbformat": 4,
 "nbformat_minor": 4
}
